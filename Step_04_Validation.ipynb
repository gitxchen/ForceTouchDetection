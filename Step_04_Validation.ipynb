{
 "cells": [
  {
   "cell_type": "code",
   "execution_count": 1,
   "metadata": {},
   "outputs": [
    {
     "name": "stderr",
     "output_type": "stream",
     "text": [
      "/usr/local/lib/python3.6/dist-packages/requests/__init__.py:91: RequestsDependencyWarning: urllib3 (1.25.2) or chardet (3.0.4) doesn't match a supported version!\n",
      "  RequestsDependencyWarning)\n",
      "Using TensorFlow backend.\n"
     ]
    }
   ],
   "source": [
    "import numpy as np\n",
    "import time\n",
    "from datetime import timedelta\n",
    "import math\n",
    "\n",
    "import datetime\n",
    "import time\n",
    "\n",
    "import tensorflow as tf\n",
    "\n",
    "import pandas as pd\n",
    "import numpy as np\n",
    "import keras as keras\n",
    "import keras.backend as K\n",
    "from keras.models import Model\n",
    "from keras.models import load_model\n",
    "\n",
    "import matplotlib.pyplot as plt\n",
    "\n",
    "import random\n",
    "from sklearn.metrics import mean_squared_error"
   ]
  },
  {
   "cell_type": "code",
   "execution_count": 2,
   "metadata": {},
   "outputs": [],
   "source": [
    "DATA_PATH = 'data/'"
   ]
  },
  {
   "cell_type": "code",
   "execution_count": 3,
   "metadata": {},
   "outputs": [],
   "source": [
    "df = pd.read_pickle(DATA_PATH + \"data.pkl\")\n",
    "df.Weight = df.Weight.astype(np.float)\n",
    "df.BlobImages = df.BlobImages.apply(lambda x : x.reshape(27, 15, 1))"
   ]
  },
  {
   "cell_type": "code",
   "execution_count": 4,
   "metadata": {},
   "outputs": [
    {
     "name": "stdout",
     "output_type": "stream",
     "text": [
      "Done!\n"
     ]
    }
   ],
   "source": [
    "train = df.BlobImages.values\n",
    "train = np.concatenate(train).reshape(-1, 27, 15, 1) / 255.0\n",
    "print(\"Done!\")"
   ]
  },
  {
   "cell_type": "code",
   "execution_count": 10,
   "metadata": {},
   "outputs": [],
   "source": [
    "loadpath = \"./ModelSnapshots/model-500.h5\""
   ]
  },
  {
   "cell_type": "code",
   "execution_count": 6,
   "metadata": {},
   "outputs": [],
   "source": [
    "def rmse(y_true, y_pred):\n",
    "    return  K.sqrt(K.mean(K.square(y_pred - y_true), axis=-1))"
   ]
  },
  {
   "cell_type": "code",
   "execution_count": 7,
   "metadata": {},
   "outputs": [
    {
     "data": {
      "text/plain": [
       "<tensorflow.python.client.session.Session at 0x7f0b1bf478d0>"
      ]
     },
     "execution_count": 7,
     "metadata": {},
     "output_type": "execute_result"
    }
   ],
   "source": [
    "# regulate gpu usage\n",
    "config = tf.ConfigProto(log_device_placement=True, allow_soft_placement=True)#, device_count = {'GPU' : 4})\n",
    "config.gpu_options.allow_growth=True\n",
    "config.gpu_options.per_process_gpu_memory_fraction=0.1\n",
    "config.gpu_options.allocator_type = 'BFC'\n",
    "tf.Session(config=config)"
   ]
  },
  {
   "cell_type": "code",
   "execution_count": 11,
   "metadata": {},
   "outputs": [
    {
     "name": "stdout",
     "output_type": "stream",
     "text": [
      "WARNING:tensorflow:From /usr/local/lib/python3.6/dist-packages/tensorflow/python/framework/op_def_library.py:263: colocate_with (from tensorflow.python.framework.ops) is deprecated and will be removed in a future version.\n",
      "Instructions for updating:\n",
      "Colocations handled automatically by placer.\n",
      "WARNING:tensorflow:From /usr/local/lib/python3.6/dist-packages/keras/backend/tensorflow_backend.py:3445: calling dropout (from tensorflow.python.ops.nn_ops) with keep_prob is deprecated and will be removed in a future version.\n",
      "Instructions for updating:\n",
      "Please use `rate` instead of `keep_prob`. Rate should be set to `rate = 1 - keep_prob`.\n",
      "WARNING:tensorflow:From /usr/local/lib/python3.6/dist-packages/tensorflow/python/ops/math_ops.py:3066: to_int32 (from tensorflow.python.ops.math_ops) is deprecated and will be removed in a future version.\n",
      "Instructions for updating:\n",
      "Use tf.cast instead.\n"
     ]
    }
   ],
   "source": [
    "model = load_model(loadpath, custom_objects={'rmse': rmse})"
   ]
  },
  {
   "cell_type": "code",
   "execution_count": 13,
   "metadata": {},
   "outputs": [
    {
     "name": "stdout",
     "output_type": "stream",
     "text": [
      "CPU times: user 2min 18s, sys: 13.5 s, total: 2min 31s\n",
      "Wall time: 1min 26s\n"
     ]
    }
   ],
   "source": [
    "%%time\n",
    "lst = []\n",
    "for i in range(0, len(train), 10000):\n",
    "    _x = train[i: i+10000]\n",
    "    lst.extend(model.predict(_x))"
   ]
  },
  {
   "cell_type": "code",
   "execution_count": 14,
   "metadata": {},
   "outputs": [],
   "source": [
    "df[\"WeightPred\"] = lst\n",
    "df.WeightPred = df.WeightPred.apply(lambda x: x[0])\n",
    "df[\"Error\"] = df.Weight - df.WeightPred\n",
    "df[\"ErrorAbs\"] = df.Error.abs()"
   ]
  },
  {
   "cell_type": "code",
   "execution_count": 15,
   "metadata": {},
   "outputs": [],
   "source": [
    "mean = df.groupby(\"Weight\").WeightPred.mean()\n",
    "std = df.groupby(\"Weight\").WeightPred.std()"
   ]
  },
  {
   "cell_type": "code",
   "execution_count": 18,
   "metadata": {},
   "outputs": [
    {
     "name": "stdout",
     "output_type": "stream",
     "text": [
      "# $\\textit{RMSE} = 484.5g$\n",
      "# $\\textit{MAE} = 396.5g$ ($\\textit{SD} = 278.3g$)\n"
     ]
    }
   ],
   "source": [
    "dfX = df[(df.Set == \"Train\")]\n",
    "rmse = np.sqrt(mean_squared_error(dfX.Weight, dfX.WeightPred))\n",
    "print(\"# $\\\\textit{RMSE} = %.1fg$\" % rmse)\n",
    "print(\"# $\\\\textit{MAE} = %.1fg$ ($\\\\textit{SD} = %.1fg$)\" % (dfX.ErrorAbs.mean(), dfX.ErrorAbs.std()))"
   ]
  },
  {
   "cell_type": "code",
   "execution_count": 19,
   "metadata": {},
   "outputs": [
    {
     "name": "stdout",
     "output_type": "stream",
     "text": [
      "# $\\textit{RMSE} = 471.99g$\n",
      "# $\\textit{MAE} = 369.01g$ ($\\textit{SD} = 294.30g$)\n"
     ]
    }
   ],
   "source": [
    "dfX = df[(df.Set == \"Test\") & (df.Noise == 0) & (df.Version == \"Normal\")]\n",
    "rmse = np.sqrt(mean_squared_error(dfX.Weight.values, dfX.WeightPred.values))\n",
    "print(\"# $\\\\textit{RMSE} = %.2fg$\" % rmse)\n",
    "print(\"# $\\\\textit{MAE} = %.2fg$ ($\\\\textit{SD} = %.2fg$)\" % (dfX.ErrorAbs.mean(), dfX.ErrorAbs.std()))\n"
   ]
  }
 ],
 "metadata": {
  "kernelspec": {
   "display_name": "Python 3",
   "language": "python",
   "name": "python3"
  },
  "language_info": {
   "codemirror_mode": {
    "name": "ipython",
    "version": 3
   },
   "file_extension": ".py",
   "mimetype": "text/x-python",
   "name": "python",
   "nbconvert_exporter": "python",
   "pygments_lexer": "ipython3",
   "version": "3.6.7"
  }
 },
 "nbformat": 4,
 "nbformat_minor": 2
}
