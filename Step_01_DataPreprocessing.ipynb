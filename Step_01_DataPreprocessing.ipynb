{
 "cells": [
  {
   "cell_type": "code",
   "execution_count": 1,
   "metadata": {},
   "outputs": [],
   "source": [
    "import pandas as pd\n",
    "import numpy as np\n",
    "import time\n",
    "import os\n",
    "import cv2\n",
    "from multiprocessing import Pool\n",
    "import matplotlib.pyplot as plt\n",
    "import random"
   ]
  },
  {
   "cell_type": "code",
   "execution_count": 2,
   "metadata": {},
   "outputs": [],
   "source": [
    "DATA_PATH = 'data/'"
   ]
  },
  {
   "cell_type": "code",
   "execution_count": 4,
   "metadata": {},
   "outputs": [
    {
     "name": "stdout",
     "output_type": "stream",
     "text": [
      "Reading data/csv/19e98630-e8a6-4ba1-8ddb-8d8bf4eb9e21_Male_Student_23.csv\n",
      "Reading data/csv/6db7fca4-ede0-485f-b4cb-29085f4728c5_Female_Student_22.csv\n",
      "Reading data/csv/24944901-a831-42fe-a2db-47b76d485725_Male_Other_24.csv\n",
      "Reading data/csv/5456008e-9eb7-40a4-ad88-04001be5077b_Male_Student_25.csv\n",
      "Reading data/csv/d1edf3aa-c838-443b-82b4-6b119b8cca72_Male_Student_24.csv\n",
      "Reading data/csv/7808c738-558d-4644-add1-0b2affe61ffe_Female_Student_23.csv\n",
      "Reading data/csv/f6f941aa-78e8-4723-999c-b2d0e2f6d1ed_Male_Student_23.csv\n",
      "Reading data/csv/7a79ea49-cb85-4acb-9d6b-c0ab35b5fc8f_Male_Student_23.csv\n",
      "Reading data/csv/b824bf10-c9e9-41c0-acca-48382ba899ce_Male_Student_25.csv\n",
      "Reading data/csv/0770d6ae-80c7-4874-bcd3-18b9dcc0ad2c_Male_Student_22.csv\n",
      "Reading data/csv/5fdfd2ac-7403-4ab2-a2ca-0e31f2cbe6d0_Male_Student_26.csv\n",
      "Reading data/csv/71c129f8-917d-4557-a3ba-8fd341580dfc_Male_Student_22.csv\n",
      "Reading data/csv/b8b3115b-d3aa-43f1-aa72-70e7bb7339bb_Male_Student_22.csv\n",
      "Reading data/csv/9f8de787-0638-4bc0-bc48-626c8e35a208_Female_Student_22.csv\n",
      "Reading data/csv/69690fd8-4ce3-4c65-8eef-e8674139d116_Female_Student_27.csv\n",
      "Reading data/csv/bc9d4538-ef2d-4fb6-99da-4a8b6db146eb_Female_Student_19.csv\n",
      "Reading data/csv/c2fafcaa-d2ff-431f-82cd-900fa04203ed_Male_Student_23.csv\n",
      "Reading data/csv/7f6e1b79-87f6-4c2f-a0fe-df0072e28f02_Male_Student_24.csv\n",
      "Reading data/csv/f3061c56-8c07-4f80-aac3-b10c572162b2_Male_Student_24.csv\n",
      "Reading data/csv/39778577-0405-4280-b95b-fd28a4fa13b7_Male_Student_23.csv\n"
     ]
    }
   ],
   "source": [
    "#data = pd.DataFrame(columns=['Weight', 'Image', 'Flattened Image', 'Scale Timestamp', 'Image Timestamp', 'Time Offset'])\n",
    "lst = []\n",
    "index = 1\n",
    "for fn in os.listdir(DATA_PATH + \"csv/\"):\n",
    "    if os.path.isfile(DATA_PATH + \"csv/\" + fn):\n",
    "        if (fn.endswith(\".csv\")):            \n",
    "            print(\"Reading \" + DATA_PATH + \"csv/\" + fn)\n",
    "            data_current = pd.read_csv(DATA_PATH + \"csv/\" + fn, delimiter=';')\n",
    "            # the csv file ends with a delimiter sign which gets interpreted as column therefore we omit it manually\n",
    "            data_current = data_current.drop(data_current.columns[6], axis=1)\n",
    "            # add participant column to identify data point to unique participant id\n",
    "            data_current['Participant'] = index\n",
    "            # also add the participants data to the data points\n",
    "            info = fn.split(\".\")[0].split(\"_\")\n",
    "            data_current['Gender'] = info[1]\n",
    "            data_current['Occupation'] = info[2]\n",
    "            data_current['Age'] = info[3]\n",
    "            lst.append(data_current)\n",
    "            index = index + 1\n"
   ]
  },
  {
   "cell_type": "code",
   "execution_count": 5,
   "metadata": {},
   "outputs": [
    {
     "data": {
      "text/html": [
       "<div>\n",
       "<style scoped>\n",
       "    .dataframe tbody tr th:only-of-type {\n",
       "        vertical-align: middle;\n",
       "    }\n",
       "\n",
       "    .dataframe tbody tr th {\n",
       "        vertical-align: top;\n",
       "    }\n",
       "\n",
       "    .dataframe thead th {\n",
       "        text-align: right;\n",
       "    }\n",
       "</style>\n",
       "<table border=\"1\" class=\"dataframe\">\n",
       "  <thead>\n",
       "    <tr style=\"text-align: right;\">\n",
       "      <th></th>\n",
       "      <th>Weight</th>\n",
       "      <th>Image</th>\n",
       "      <th>Flattened Image</th>\n",
       "      <th>Scale Timestamp</th>\n",
       "      <th>Image Timestamp</th>\n",
       "      <th>Time Offset</th>\n",
       "      <th>Participant</th>\n",
       "      <th>Gender</th>\n",
       "      <th>Occupation</th>\n",
       "      <th>Age</th>\n",
       "    </tr>\n",
       "  </thead>\n",
       "  <tbody>\n",
       "    <tr>\n",
       "      <th>0</th>\n",
       "      <td>110</td>\n",
       "      <td>[[-2, -28, -1, 1, -1, -1, -1, 0, 0, 0, 0, -2, ...</td>\n",
       "      <td>[-2, -28, -1, 1, -1, -1, -1, 0, 0, 0, 0, -2, 1...</td>\n",
       "      <td>1.528834e+12</td>\n",
       "      <td>1.528834e+12</td>\n",
       "      <td>36.0</td>\n",
       "      <td>1</td>\n",
       "      <td>Male</td>\n",
       "      <td>Student</td>\n",
       "      <td>23</td>\n",
       "    </tr>\n",
       "    <tr>\n",
       "      <th>1</th>\n",
       "      <td>8</td>\n",
       "      <td>[[-2, -28, -1, 1, -1, -1, -1, 0, 0, 0, 0, -2, ...</td>\n",
       "      <td>[-2, -28, -1, 1, -1, -1, -1, 0, 0, 0, 0, -2, 1...</td>\n",
       "      <td>1.528834e+12</td>\n",
       "      <td>1.528834e+12</td>\n",
       "      <td>12.0</td>\n",
       "      <td>1</td>\n",
       "      <td>Male</td>\n",
       "      <td>Student</td>\n",
       "      <td>23</td>\n",
       "    </tr>\n",
       "    <tr>\n",
       "      <th>2</th>\n",
       "      <td>2</td>\n",
       "      <td>[[-2, -28, -1, 1, -1, -1, -1, 0, 0, 0, 0, -2, ...</td>\n",
       "      <td>[-2, -28, -1, 1, -1, -1, -1, 0, 0, 0, 0, -2, 1...</td>\n",
       "      <td>1.528834e+12</td>\n",
       "      <td>1.528834e+12</td>\n",
       "      <td>55.0</td>\n",
       "      <td>1</td>\n",
       "      <td>Male</td>\n",
       "      <td>Student</td>\n",
       "      <td>23</td>\n",
       "    </tr>\n",
       "    <tr>\n",
       "      <th>3</th>\n",
       "      <td>2</td>\n",
       "      <td>[[-2, -28, -1, 1, -1, -1, -1, 0, 0, 0, 0, -2, ...</td>\n",
       "      <td>[-2, -28, -1, 1, -1, -1, -1, 0, 0, 0, 0, -2, 1...</td>\n",
       "      <td>1.528834e+12</td>\n",
       "      <td>1.528834e+12</td>\n",
       "      <td>82.0</td>\n",
       "      <td>1</td>\n",
       "      <td>Male</td>\n",
       "      <td>Student</td>\n",
       "      <td>23</td>\n",
       "    </tr>\n",
       "    <tr>\n",
       "      <th>4</th>\n",
       "      <td>2</td>\n",
       "      <td>[[-2, -28, -1, 1, -1, -1, -1, 0, 0, 0, 0, -2, ...</td>\n",
       "      <td>[-2, -28, -1, 1, -1, -1, -1, 0, 0, 0, 0, -2, 1...</td>\n",
       "      <td>1.528834e+12</td>\n",
       "      <td>1.528834e+12</td>\n",
       "      <td>3.0</td>\n",
       "      <td>1</td>\n",
       "      <td>Male</td>\n",
       "      <td>Student</td>\n",
       "      <td>23</td>\n",
       "    </tr>\n",
       "  </tbody>\n",
       "</table>\n",
       "</div>"
      ],
      "text/plain": [
       "  Weight                                              Image  \\\n",
       "0    110  [[-2, -28, -1, 1, -1, -1, -1, 0, 0, 0, 0, -2, ...   \n",
       "1      8  [[-2, -28, -1, 1, -1, -1, -1, 0, 0, 0, 0, -2, ...   \n",
       "2      2  [[-2, -28, -1, 1, -1, -1, -1, 0, 0, 0, 0, -2, ...   \n",
       "3      2  [[-2, -28, -1, 1, -1, -1, -1, 0, 0, 0, 0, -2, ...   \n",
       "4      2  [[-2, -28, -1, 1, -1, -1, -1, 0, 0, 0, 0, -2, ...   \n",
       "\n",
       "                                     Flattened Image  Scale Timestamp  \\\n",
       "0  [-2, -28, -1, 1, -1, -1, -1, 0, 0, 0, 0, -2, 1...     1.528834e+12   \n",
       "1  [-2, -28, -1, 1, -1, -1, -1, 0, 0, 0, 0, -2, 1...     1.528834e+12   \n",
       "2  [-2, -28, -1, 1, -1, -1, -1, 0, 0, 0, 0, -2, 1...     1.528834e+12   \n",
       "3  [-2, -28, -1, 1, -1, -1, -1, 0, 0, 0, 0, -2, 1...     1.528834e+12   \n",
       "4  [-2, -28, -1, 1, -1, -1, -1, 0, 0, 0, 0, -2, 1...     1.528834e+12   \n",
       "\n",
       "   Image Timestamp  Time Offset  Participant Gender Occupation Age  \n",
       "0     1.528834e+12         36.0            1   Male    Student  23  \n",
       "1     1.528834e+12         12.0            1   Male    Student  23  \n",
       "2     1.528834e+12         55.0            1   Male    Student  23  \n",
       "3     1.528834e+12         82.0            1   Male    Student  23  \n",
       "4     1.528834e+12          3.0            1   Male    Student  23  "
      ]
     },
     "execution_count": 5,
     "metadata": {},
     "output_type": "execute_result"
    }
   ],
   "source": [
    "df = pd.concat(lst)\n",
    "df.head()"
   ]
  },
  {
   "cell_type": "code",
   "execution_count": 6,
   "metadata": {},
   "outputs": [
    {
     "name": "stdout",
     "output_type": "stream",
     "text": [
      "CPU times: user 1.76 s, sys: 226 ms, total: 1.99 s\n",
      "Wall time: 1.99 s\n"
     ]
    }
   ],
   "source": [
    "%%time\n",
    "# convert the collected matrices to numpy arrays\n",
    "raw_matrix = df['Flattened Image'].apply(lambda x:x.replace(\"[\",\"\").replace(\"]\",\"\"))\n",
    "df.Image = raw_matrix.apply(lambda x: np.fromstring(x, sep=\",\", dtype=np.int32))\n",
    "del df['Flattened Image']"
   ]
  },
  {
   "cell_type": "code",
   "execution_count": 7,
   "metadata": {},
   "outputs": [
    {
     "name": "stdout",
     "output_type": "stream",
     "text": [
      "Removed 2 invalid entries\n"
     ]
    }
   ],
   "source": [
    "print(\"Removed %i invalid entries\" % len(df[df.Image.map(len) != 405]))\n",
    "df = df[df.Image.map(len) == 405]\n",
    "\n",
    "df = df[~(df[\"Time Offset\"].isna())]\n",
    "df.Weight = pd.to_numeric(df.Weight)\n",
    "df.Age = pd.to_numeric(df.Age).astype(int)\n"
   ]
  },
  {
   "cell_type": "code",
   "execution_count": 8,
   "metadata": {},
   "outputs": [
    {
     "data": {
      "text/plain": [
       "115134"
      ]
     },
     "execution_count": 8,
     "metadata": {},
     "output_type": "execute_result"
    }
   ],
   "source": [
    "len(df)"
   ]
  },
  {
   "cell_type": "code",
   "execution_count": 9,
   "metadata": {},
   "outputs": [],
   "source": [
    "df = df[(df[\"Time Offset\"] < 80) & (df.Weight > 0)]"
   ]
  },
  {
   "cell_type": "code",
   "execution_count": 10,
   "metadata": {},
   "outputs": [
    {
     "data": {
      "text/plain": [
       "7424"
      ]
     },
     "execution_count": 10,
     "metadata": {},
     "output_type": "execute_result"
    }
   ],
   "source": [
    "115134-len(df)"
   ]
  },
  {
   "cell_type": "code",
   "execution_count": null,
   "metadata": {},
   "outputs": [],
   "source": []
  },
  {
   "cell_type": "code",
   "execution_count": null,
   "metadata": {},
   "outputs": [],
   "source": []
  },
  {
   "cell_type": "code",
   "execution_count": 11,
   "metadata": {},
   "outputs": [],
   "source": [
    "df.Image = df.Image.apply(lambda x: x.reshape(27,15))\n",
    "df.Image = df.Image.apply(lambda x: x.clip(min=0, max=255))\n",
    "df.Image = df.Image.apply(lambda x: x.astype(np.uint8))"
   ]
  },
  {
   "cell_type": "code",
   "execution_count": 12,
   "metadata": {},
   "outputs": [],
   "source": [
    "df[\"ImageSum\"] = df.Image.apply(lambda x: np.sum(x))"
   ]
  },
  {
   "cell_type": "code",
   "execution_count": 13,
   "metadata": {},
   "outputs": [],
   "source": [
    "def detect_blobs(image):\n",
    "    #image = image.reshape(27, 15)\n",
    "    large = np.ones((29,17), dtype=np.uint8)\n",
    "    large[1:28,1:16] = image\n",
    "    temp, thresh = cv2.threshold(cv2.bitwise_not(large), 180, 255, cv2.THRESH_BINARY)\n",
    "    im2, contours, hierarchy = cv2.findContours(thresh, cv2.RETR_TREE, cv2.CHAIN_APPROX_SIMPLE)\n",
    "    contours = [a for a in contours if cv2.contourArea(a) > 5 and cv2.contourArea(a) < 255]\n",
    "    lst  = []\n",
    "    count = 0\n",
    "    if len(contours) > 0:\n",
    "        max_contour = max(contours, key=lambda a: cv2.contourArea(a))\n",
    "        xmax, ymax = np.max(max_contour.reshape(len(max_contour),2), axis=0)\n",
    "        xmin, ymin = np.min(max_contour.reshape(len(max_contour),2), axis=0)\n",
    "        #croped_im = np.zeros((27,15))\n",
    "        blob = large[max(ymin - 1, 0):min(ymax + 1, large.shape[0]),max(xmin - 1, 0):min(xmax + 1, large.shape[1])]\n",
    "        # THIS WAS WRONG!\n",
    "        #blob = large[max(ymin - 1, 0):min(ymax + 1, image.shape[0]),max(xmin - 1, 0):min(xmax + 1, image.shape[1])]\n",
    "        lst.append(blob)\n",
    "        count = count + 1\n",
    "    else:\n",
    "        return (0, np.zeros((29,17)), 0, 0)\n",
    "    \n",
    "    return (count, [lst], xmax-xmin, ymax-ymin) "
   ]
  },
  {
   "cell_type": "code",
   "execution_count": 14,
   "metadata": {},
   "outputs": [
    {
     "name": "stdout",
     "output_type": "stream",
     "text": [
      "CPU times: user 1.38 s, sys: 373 ms, total: 1.75 s\n",
      "Wall time: 2.13 s\n"
     ]
    }
   ],
   "source": [
    "%%time\n",
    "pool = Pool(8)\n",
    "temp_blobs = pool.map(detect_blobs, df.Image)\n",
    "pool.close()"
   ]
  },
  {
   "cell_type": "code",
   "execution_count": 15,
   "metadata": {},
   "outputs": [
    {
     "name": "stdout",
     "output_type": "stream",
     "text": [
      "82526\n",
      "82526\n"
     ]
    }
   ],
   "source": [
    "df[\"BlobCount\"] = [a[0] for a in temp_blobs]\n",
    "df[\"BlobImages\"] = [a[1] for a in temp_blobs]\n",
    "df[\"BlobW\"] = [a[2] for a in temp_blobs]\n",
    "df[\"BlobH\"] = [a[3] for a in temp_blobs]\n",
    "df[\"BlobArea\"] = df[\"BlobW\"]* df[\"BlobH\"]\n",
    "print(len(df[df.BlobCount > 0]))\n",
    "df = df[df.BlobCount > 0]\n",
    "print(len(df))"
   ]
  },
  {
   "cell_type": "code",
   "execution_count": 16,
   "metadata": {},
   "outputs": [
    {
     "data": {
      "text/plain": [
       "count    82526.0\n",
       "mean        18.4\n",
       "std          4.1\n",
       "min          8.0\n",
       "25%         16.0\n",
       "50%         16.0\n",
       "75%         20.0\n",
       "max         48.0\n",
       "Name: BlobArea, dtype: float64"
      ]
     },
     "execution_count": 16,
     "metadata": {},
     "output_type": "execute_result"
    }
   ],
   "source": [
    "df.BlobArea.describe().round(1)"
   ]
  },
  {
   "cell_type": "code",
   "execution_count": 17,
   "metadata": {},
   "outputs": [],
   "source": [
    "# Only if one Blob is in data\n",
    "df.BlobImages = df.BlobImages.apply(lambda x: x[0][0])"
   ]
  },
  {
   "cell_type": "code",
   "execution_count": 18,
   "metadata": {},
   "outputs": [],
   "source": [
    "df[\"BlobSum\"] = df.BlobImages.apply(lambda x: np.sum(x))"
   ]
  },
  {
   "cell_type": "code",
   "execution_count": 19,
   "metadata": {},
   "outputs": [],
   "source": [
    "df = df[df.BlobSum >= 255*4]"
   ]
  },
  {
   "cell_type": "code",
   "execution_count": 20,
   "metadata": {},
   "outputs": [
    {
     "data": {
      "text/plain": [
       "Text(0, 0.5, 'Sample Count')"
      ]
     },
     "execution_count": 20,
     "metadata": {},
     "output_type": "execute_result"
    },
    {
     "data": {
      "image/png": "[encoded data removed]",
      "text/plain": [
       "<Figure size 432x288 with 1 Axes>"
      ]
     },
     "metadata": {
      "needs_background": "light"
     },
     "output_type": "display_data"
    }
   ],
   "source": [
    "df[(df.Weight<4000)].Weight.hist(bins = 100, range=(0,4000))#, log=True,)\n",
    "plt.xlabel(\"Gram\")\n",
    "plt.ylabel(\"Sample Count\")"
   ]
  },
  {
   "cell_type": "code",
   "execution_count": 21,
   "metadata": {},
   "outputs": [
    {
     "data": {
      "text/plain": [
       "0.006825304413531692"
      ]
     },
     "execution_count": 21,
     "metadata": {},
     "output_type": "execute_result"
    }
   ],
   "source": [
    "len(df[df.Weight > 2000]) / len(df)"
   ]
  },
  {
   "cell_type": "code",
   "execution_count": 22,
   "metadata": {},
   "outputs": [],
   "source": [
    "df = df[df.Weight < 2000]"
   ]
  },
  {
   "cell_type": "code",
   "execution_count": 23,
   "metadata": {},
   "outputs": [],
   "source": [
    "df[\"Noise\"] = 0"
   ]
  },
  {
   "cell_type": "code",
   "execution_count": 24,
   "metadata": {},
   "outputs": [],
   "source": [
    "def addNoise (image):\n",
    "    mu, sigma = 0, 1.5 # mean and standard deviation\n",
    "    ran = np.random.normal(mu, sigma, image.shape[0] * image.shape[1]).reshape((image.shape[0], image.shape[1])).round()\n",
    "    return image + ran"
   ]
  },
  {
   "cell_type": "code",
   "execution_count": 26,
   "metadata": {},
   "outputs": [],
   "source": [
    "lst = [0]\n",
    "binWidth = 50\n",
    "binCount = 7000\n",
    "while len(lst) > 0:\n",
    "    lst = []\n",
    "    for i in range (0,2500,binWidth):\n",
    "        dfY = df[(df.Weight >= i) & (df.Weight < i+binWidth)]\n",
    "        if ((len(dfY) > 0) & (len(dfY) < binCount)):\n",
    "            if(len(dfY) > binCount-len(dfY)):\n",
    "                dfY = dfY.sample(frac=1)[:binCount-len(dfY)]\n",
    "            dfX = dfY.copy(deep=True)\n",
    "            dfX.BlobImages = dfX.BlobImages.apply(lambda x: addNoise(x))\n",
    "            dfX.BlobImages = dfX.BlobImages.apply(lambda x: x.clip(min=0, max=255))\n",
    "            dfX.Noise = dfX.Noise + 1\n",
    "            lst.append(dfX)\n",
    "    if (len(lst)>0):\n",
    "        df = df.append(lst)"
   ]
  },
  {
   "cell_type": "code",
   "execution_count": 28,
   "metadata": {},
   "outputs": [
    {
     "data": {
      "text/plain": [
       "280000"
      ]
     },
     "execution_count": 28,
     "metadata": {},
     "output_type": "execute_result"
    }
   ],
   "source": [
    "len(df)"
   ]
  },
  {
   "cell_type": "code",
   "execution_count": 27,
   "metadata": {},
   "outputs": [
    {
     "data": {
      "text/plain": [
       "<matplotlib.axes._subplots.AxesSubplot at 0x7f24ce15c2e8>"
      ]
     },
     "execution_count": 27,
     "metadata": {},
     "output_type": "execute_result"
    },
    {
     "data": {
      "image/png": "[encoded data removed]",
      "text/plain": [
       "<Figure size 432x288 with 1 Axes>"
      ]
     },
     "metadata": {
      "needs_background": "light"
     },
     "output_type": "display_data"
    }
   ],
   "source": [
    "df.Weight.hist(bins = binWidth)"
   ]
  },
  {
   "cell_type": "code",
   "execution_count": 29,
   "metadata": {},
   "outputs": [],
   "source": [
    "df[\"Version\"] = \"Normal\"\n",
    "dfFlipped = df.copy(deep=True)\n",
    "dfFlipped.BlobImages = dfFlipped.BlobImages.apply(lambda x: np.flipud(x))\n",
    "dfFlipped[\"Version\"] = \"FlippedUD\"\n",
    "df = df.append(dfFlipped)\n",
    "dfFlipped = df.copy(deep=True)\n",
    "dfFlipped.BlobImages = dfFlipped.BlobImages.apply(lambda x: np.fliplr(x))\n",
    "dfFlipped[\"Version\"] = \"FlippedLR\"\n",
    "df = df.append(dfFlipped)"
   ]
  },
  {
   "cell_type": "code",
   "execution_count": 30,
   "metadata": {},
   "outputs": [
    {
     "data": {
      "text/plain": [
       "1120000"
      ]
     },
     "execution_count": 30,
     "metadata": {},
     "output_type": "execute_result"
    }
   ],
   "source": [
    "len(df)"
   ]
  },
  {
   "cell_type": "code",
   "execution_count": 58,
   "metadata": {},
   "outputs": [],
   "source": [
    "def pasteToEmpty (blob):\n",
    "    croped_im = np.zeros((27,15))\n",
    "    croped_im[0:blob.shape[0],0:blob.shape[1]] = blob\n",
    "    return croped_im"
   ]
  },
  {
   "cell_type": "code",
   "execution_count": 59,
   "metadata": {},
   "outputs": [],
   "source": [
    "df.BlobImages = df.BlobImages.apply(lambda x: pasteToEmpty(x))"
   ]
  },
  {
   "cell_type": "code",
   "execution_count": 60,
   "metadata": {},
   "outputs": [
    {
     "data": {
      "text/plain": [
       "count    20.000000\n",
       "mean     23.300000\n",
       "std       1.719853\n",
       "min      19.000000\n",
       "25%      22.000000\n",
       "50%      23.000000\n",
       "75%      24.000000\n",
       "max      27.000000\n",
       "Name: Age, dtype: float64"
      ]
     },
     "execution_count": 60,
     "metadata": {},
     "output_type": "execute_result"
    }
   ],
   "source": [
    "df.groupby(\"Participant\").mean().Age.describe()"
   ]
  },
  {
   "cell_type": "code",
   "execution_count": 61,
   "metadata": {},
   "outputs": [
    {
     "data": {
      "text/plain": [
       "[Male]      15\n",
       "[Female]     5\n",
       "Name: Gender, dtype: int64"
      ]
     },
     "execution_count": 61,
     "metadata": {},
     "output_type": "execute_result"
    }
   ],
   "source": [
    "df.groupby(\"Participant\").Gender.unique().value_counts()"
   ]
  },
  {
   "cell_type": "code",
   "execution_count": 62,
   "metadata": {},
   "outputs": [
    {
     "data": {
      "text/plain": [
       "[Student]    19\n",
       "[Other]       1\n",
       "Name: Occupation, dtype: int64"
      ]
     },
     "execution_count": 62,
     "metadata": {},
     "output_type": "execute_result"
    }
   ],
   "source": [
    "df.groupby(\"Participant\").Occupation.unique().value_counts()"
   ]
  },
  {
   "cell_type": "code",
   "execution_count": 63,
   "metadata": {},
   "outputs": [],
   "source": [
    "del df[\"BlobCount\"]\n",
    "del df[\"Image\"]\n",
    "del df[\"Age\"]\n",
    "del df[\"Gender\"]\n",
    "del df[\"Occupation\"]\n",
    "del df[\"Scale Timestamp\"]"
   ]
  },
  {
   "cell_type": "code",
   "execution_count": null,
   "metadata": {},
   "outputs": [],
   "source": [
    "[15, 12, 19, 11, 3, 5, 14, 18, 2, 7, 16, 20, 17, 13, 1, 6, 10, 4, 8, 9]"
   ]
  },
  {
   "cell_type": "code",
   "execution_count": 69,
   "metadata": {},
   "outputs": [
    {
     "data": {
      "text/plain": [
       "[20, 6, 15, 5, 10, 14, 16, 19, 7, 13, 18, 11, 2, 12, 3, 17, 8, 9, 1, 4]"
      ]
     },
     "execution_count": 69,
     "metadata": {},
     "output_type": "execute_result"
    }
   ],
   "source": [
    "lst = list(range(1, 21))\n",
    "SEED = 42#448\n",
    "random.seed(SEED)\n",
    "random.shuffle(lst)\n",
    "lst"
   ]
  },
  {
   "cell_type": "code",
   "execution_count": 76,
   "metadata": {},
   "outputs": [],
   "source": [
    "df[\"Set\"] = \"Test\"\n",
    "df.loc[df.Participant.isin(lst[0: 15]), \"Set\"] = \"Train\""
   ]
  },
  {
   "cell_type": "code",
   "execution_count": 77,
   "metadata": {},
   "outputs": [
    {
     "data": {
      "text/html": [
       "<div>\n",
       "<style scoped>\n",
       "    .dataframe tbody tr th:only-of-type {\n",
       "        vertical-align: middle;\n",
       "    }\n",
       "\n",
       "    .dataframe tbody tr th {\n",
       "        vertical-align: top;\n",
       "    }\n",
       "\n",
       "    .dataframe thead th {\n",
       "        text-align: right;\n",
       "    }\n",
       "</style>\n",
       "<table border=\"1\" class=\"dataframe\">\n",
       "  <thead>\n",
       "    <tr style=\"text-align: right;\">\n",
       "      <th></th>\n",
       "      <th>Weight</th>\n",
       "      <th>Image Timestamp</th>\n",
       "      <th>Time Offset</th>\n",
       "      <th>Participant</th>\n",
       "      <th>ImageSum</th>\n",
       "      <th>BlobImages</th>\n",
       "      <th>BlobW</th>\n",
       "      <th>BlobH</th>\n",
       "      <th>BlobArea</th>\n",
       "      <th>BlobSum</th>\n",
       "      <th>Noise</th>\n",
       "      <th>Version</th>\n",
       "      <th>Set</th>\n",
       "    </tr>\n",
       "  </thead>\n",
       "  <tbody>\n",
       "    <tr>\n",
       "      <th>13</th>\n",
       "      <td>2</td>\n",
       "      <td>1.528834e+12</td>\n",
       "      <td>34.0</td>\n",
       "      <td>1</td>\n",
       "      <td>1917</td>\n",
       "      <td>[[2.0, 2.0, 9.0, 7.0, 2.0, 0.0, 0.0, 0.0, 0.0,...</td>\n",
       "      <td>3</td>\n",
       "      <td>3</td>\n",
       "      <td>9</td>\n",
       "      <td>1072</td>\n",
       "      <td>0</td>\n",
       "      <td>Normal</td>\n",
       "      <td>Test</td>\n",
       "    </tr>\n",
       "    <tr>\n",
       "      <th>14</th>\n",
       "      <td>23</td>\n",
       "      <td>1.528834e+12</td>\n",
       "      <td>50.0</td>\n",
       "      <td>1</td>\n",
       "      <td>2096</td>\n",
       "      <td>[[0.0, 0.0, 2.0, 1.0, 0.0, 0.0, 0.0, 0.0, 0.0,...</td>\n",
       "      <td>3</td>\n",
       "      <td>4</td>\n",
       "      <td>12</td>\n",
       "      <td>1171</td>\n",
       "      <td>0</td>\n",
       "      <td>Normal</td>\n",
       "      <td>Test</td>\n",
       "    </tr>\n",
       "    <tr>\n",
       "      <th>15</th>\n",
       "      <td>126</td>\n",
       "      <td>1.528834e+12</td>\n",
       "      <td>43.0</td>\n",
       "      <td>1</td>\n",
       "      <td>1661</td>\n",
       "      <td>[[0.0, 0.0, 1.0, 4.0, 1.0, 0.0, 0.0, 0.0, 0.0,...</td>\n",
       "      <td>4</td>\n",
       "      <td>4</td>\n",
       "      <td>16</td>\n",
       "      <td>1305</td>\n",
       "      <td>0</td>\n",
       "      <td>Normal</td>\n",
       "      <td>Test</td>\n",
       "    </tr>\n",
       "    <tr>\n",
       "      <th>16</th>\n",
       "      <td>231</td>\n",
       "      <td>1.528834e+12</td>\n",
       "      <td>12.0</td>\n",
       "      <td>1</td>\n",
       "      <td>1465</td>\n",
       "      <td>[[0.0, 0.0, 0.0, 2.0, 0.0, 0.0, 0.0, 0.0, 0.0,...</td>\n",
       "      <td>4</td>\n",
       "      <td>4</td>\n",
       "      <td>16</td>\n",
       "      <td>1321</td>\n",
       "      <td>0</td>\n",
       "      <td>Normal</td>\n",
       "      <td>Test</td>\n",
       "    </tr>\n",
       "    <tr>\n",
       "      <th>17</th>\n",
       "      <td>308</td>\n",
       "      <td>1.528834e+12</td>\n",
       "      <td>37.0</td>\n",
       "      <td>1</td>\n",
       "      <td>1465</td>\n",
       "      <td>[[0.0, 0.0, 0.0, 2.0, 0.0, 0.0, 0.0, 0.0, 0.0,...</td>\n",
       "      <td>4</td>\n",
       "      <td>4</td>\n",
       "      <td>16</td>\n",
       "      <td>1321</td>\n",
       "      <td>0</td>\n",
       "      <td>Normal</td>\n",
       "      <td>Test</td>\n",
       "    </tr>\n",
       "  </tbody>\n",
       "</table>\n",
       "</div>"
      ],
      "text/plain": [
       "    Weight  Image Timestamp  Time Offset  Participant  ImageSum  \\\n",
       "13       2     1.528834e+12         34.0            1      1917   \n",
       "14      23     1.528834e+12         50.0            1      2096   \n",
       "15     126     1.528834e+12         43.0            1      1661   \n",
       "16     231     1.528834e+12         12.0            1      1465   \n",
       "17     308     1.528834e+12         37.0            1      1465   \n",
       "\n",
       "                                           BlobImages  BlobW  BlobH  BlobArea  \\\n",
       "13  [[2.0, 2.0, 9.0, 7.0, 2.0, 0.0, 0.0, 0.0, 0.0,...      3      3         9   \n",
       "14  [[0.0, 0.0, 2.0, 1.0, 0.0, 0.0, 0.0, 0.0, 0.0,...      3      4        12   \n",
       "15  [[0.0, 0.0, 1.0, 4.0, 1.0, 0.0, 0.0, 0.0, 0.0,...      4      4        16   \n",
       "16  [[0.0, 0.0, 0.0, 2.0, 0.0, 0.0, 0.0, 0.0, 0.0,...      4      4        16   \n",
       "17  [[0.0, 0.0, 0.0, 2.0, 0.0, 0.0, 0.0, 0.0, 0.0,...      4      4        16   \n",
       "\n",
       "    BlobSum  Noise Version   Set  \n",
       "13     1072      0  Normal  Test  \n",
       "14     1171      0  Normal  Test  \n",
       "15     1305      0  Normal  Test  \n",
       "16     1321      0  Normal  Test  \n",
       "17     1321      0  Normal  Test  "
      ]
     },
     "execution_count": 77,
     "metadata": {},
     "output_type": "execute_result"
    }
   ],
   "source": [
    "df.head()"
   ]
  },
  {
   "cell_type": "code",
   "execution_count": null,
   "metadata": {},
   "outputs": [],
   "source": [
    "df.to_pickle(DATA_PATH + \"data.pkl\")"
   ]
  }
 ],
 "metadata": {
  "kernelspec": {
   "display_name": "Python 3",
   "language": "python",
   "name": "python3"
  },
  "language_info": {
   "codemirror_mode": {
    "name": "ipython",
    "version": 3
   },
   "file_extension": ".py",
   "mimetype": "text/x-python",
   "name": "python",
   "nbconvert_exporter": "python",
   "pygments_lexer": "ipython3",
   "version": "3.6.7"
  }
 },
 "nbformat": 4,
 "nbformat_minor": 2
}
