{
 "cells": [
  {
   "cell_type": "code",
   "execution_count": 1,
   "metadata": {},
   "outputs": [],
   "source": [
    "import pandas as pd\n",
    "import numpy as np\n",
    "import time\n",
    "import os\n",
    "import matplotlib.pyplot as plt\n",
    "import random\n",
    "import scipy\n",
    "from scipy import stats"
   ]
  },
  {
   "cell_type": "code",
   "execution_count": 2,
   "metadata": {},
   "outputs": [],
   "source": [
    "DATA_PATH = 'data/'"
   ]
  },
  {
   "cell_type": "code",
   "execution_count": 3,
   "metadata": {},
   "outputs": [],
   "source": [
    "df = pd.read_pickle(DATA_PATH + \"data.pkl\")"
   ]
  },
  {
   "cell_type": "code",
   "execution_count": 4,
   "metadata": {},
   "outputs": [
    {
     "data": {
      "text/html": [
       "<div>\n",
       "<style scoped>\n",
       "    .dataframe tbody tr th:only-of-type {\n",
       "        vertical-align: middle;\n",
       "    }\n",
       "\n",
       "    .dataframe tbody tr th {\n",
       "        vertical-align: top;\n",
       "    }\n",
       "\n",
       "    .dataframe thead th {\n",
       "        text-align: right;\n",
       "    }\n",
       "</style>\n",
       "<table border=\"1\" class=\"dataframe\">\n",
       "  <thead>\n",
       "    <tr style=\"text-align: right;\">\n",
       "      <th></th>\n",
       "      <th>Weight</th>\n",
       "      <th>Image Timestamp</th>\n",
       "      <th>Time Offset</th>\n",
       "      <th>Participant</th>\n",
       "      <th>ImageSum</th>\n",
       "      <th>BlobImages</th>\n",
       "      <th>BlobW</th>\n",
       "      <th>BlobH</th>\n",
       "      <th>BlobArea</th>\n",
       "      <th>BlobSum</th>\n",
       "      <th>Noise</th>\n",
       "      <th>Version</th>\n",
       "      <th>Set</th>\n",
       "    </tr>\n",
       "  </thead>\n",
       "  <tbody>\n",
       "    <tr>\n",
       "      <th>13</th>\n",
       "      <td>2</td>\n",
       "      <td>1.528834e+12</td>\n",
       "      <td>34.0</td>\n",
       "      <td>1</td>\n",
       "      <td>1917</td>\n",
       "      <td>[[2.0, 2.0, 9.0, 7.0, 2.0, 0.0, 0.0, 0.0, 0.0,...</td>\n",
       "      <td>3</td>\n",
       "      <td>3</td>\n",
       "      <td>9</td>\n",
       "      <td>1072</td>\n",
       "      <td>0</td>\n",
       "      <td>Normal</td>\n",
       "      <td>Test</td>\n",
       "    </tr>\n",
       "    <tr>\n",
       "      <th>14</th>\n",
       "      <td>23</td>\n",
       "      <td>1.528834e+12</td>\n",
       "      <td>50.0</td>\n",
       "      <td>1</td>\n",
       "      <td>2096</td>\n",
       "      <td>[[0.0, 0.0, 2.0, 1.0, 0.0, 0.0, 0.0, 0.0, 0.0,...</td>\n",
       "      <td>3</td>\n",
       "      <td>4</td>\n",
       "      <td>12</td>\n",
       "      <td>1171</td>\n",
       "      <td>0</td>\n",
       "      <td>Normal</td>\n",
       "      <td>Test</td>\n",
       "    </tr>\n",
       "    <tr>\n",
       "      <th>15</th>\n",
       "      <td>126</td>\n",
       "      <td>1.528834e+12</td>\n",
       "      <td>43.0</td>\n",
       "      <td>1</td>\n",
       "      <td>1661</td>\n",
       "      <td>[[0.0, 0.0, 1.0, 4.0, 1.0, 0.0, 0.0, 0.0, 0.0,...</td>\n",
       "      <td>4</td>\n",
       "      <td>4</td>\n",
       "      <td>16</td>\n",
       "      <td>1305</td>\n",
       "      <td>0</td>\n",
       "      <td>Normal</td>\n",
       "      <td>Test</td>\n",
       "    </tr>\n",
       "    <tr>\n",
       "      <th>16</th>\n",
       "      <td>231</td>\n",
       "      <td>1.528834e+12</td>\n",
       "      <td>12.0</td>\n",
       "      <td>1</td>\n",
       "      <td>1465</td>\n",
       "      <td>[[0.0, 0.0, 0.0, 2.0, 0.0, 0.0, 0.0, 0.0, 0.0,...</td>\n",
       "      <td>4</td>\n",
       "      <td>4</td>\n",
       "      <td>16</td>\n",
       "      <td>1321</td>\n",
       "      <td>0</td>\n",
       "      <td>Normal</td>\n",
       "      <td>Test</td>\n",
       "    </tr>\n",
       "    <tr>\n",
       "      <th>17</th>\n",
       "      <td>308</td>\n",
       "      <td>1.528834e+12</td>\n",
       "      <td>37.0</td>\n",
       "      <td>1</td>\n",
       "      <td>1465</td>\n",
       "      <td>[[0.0, 0.0, 0.0, 2.0, 0.0, 0.0, 0.0, 0.0, 0.0,...</td>\n",
       "      <td>4</td>\n",
       "      <td>4</td>\n",
       "      <td>16</td>\n",
       "      <td>1321</td>\n",
       "      <td>0</td>\n",
       "      <td>Normal</td>\n",
       "      <td>Test</td>\n",
       "    </tr>\n",
       "  </tbody>\n",
       "</table>\n",
       "</div>"
      ],
      "text/plain": [
       "    Weight  Image Timestamp  Time Offset  Participant  ImageSum  \\\n",
       "13       2     1.528834e+12         34.0            1      1917   \n",
       "14      23     1.528834e+12         50.0            1      2096   \n",
       "15     126     1.528834e+12         43.0            1      1661   \n",
       "16     231     1.528834e+12         12.0            1      1465   \n",
       "17     308     1.528834e+12         37.0            1      1465   \n",
       "\n",
       "                                           BlobImages  BlobW  BlobH  BlobArea  \\\n",
       "13  [[2.0, 2.0, 9.0, 7.0, 2.0, 0.0, 0.0, 0.0, 0.0,...      3      3         9   \n",
       "14  [[0.0, 0.0, 2.0, 1.0, 0.0, 0.0, 0.0, 0.0, 0.0,...      3      4        12   \n",
       "15  [[0.0, 0.0, 1.0, 4.0, 1.0, 0.0, 0.0, 0.0, 0.0,...      4      4        16   \n",
       "16  [[0.0, 0.0, 0.0, 2.0, 0.0, 0.0, 0.0, 0.0, 0.0,...      4      4        16   \n",
       "17  [[0.0, 0.0, 0.0, 2.0, 0.0, 0.0, 0.0, 0.0, 0.0,...      4      4        16   \n",
       "\n",
       "    BlobSum  Noise Version   Set  \n",
       "13     1072      0  Normal  Test  \n",
       "14     1171      0  Normal  Test  \n",
       "15     1305      0  Normal  Test  \n",
       "16     1321      0  Normal  Test  \n",
       "17     1321      0  Normal  Test  "
      ]
     },
     "execution_count": 4,
     "metadata": {},
     "output_type": "execute_result"
    }
   ],
   "source": [
    "df.head()"
   ]
  },
  {
   "cell_type": "code",
   "execution_count": 5,
   "metadata": {},
   "outputs": [],
   "source": [
    "import skimage\n",
    "from skimage import measure\n",
    "from skimage.measure import find_contours, approximate_polygon, \\\n",
    "    subdivide_polygon, EllipseModel, LineModelND\n",
    "from matplotlib.patches import Ellipse\n",
    "import math\n",
    "\n",
    "def getEllipseParams(img):\n",
    "    points = np.argwhere(img > 40)\n",
    "    \n",
    "    contours = skimage.measure.find_contours(img, 40)\n",
    "    points_to_approx = []\n",
    "    highest_val = 0\n",
    "    for n, contour in enumerate(contours):\n",
    "        if (len(contour) > highest_val):\n",
    "            points_to_approx = contour\n",
    "            highest_val = len(contour)   \n",
    "    \n",
    "    try:\n",
    "        contour = np.fliplr(points_to_approx)\n",
    "    except Exception as inst:\n",
    "        return [-1, -1, -1, -1, -1]\n",
    "    \n",
    "\n",
    "    ellipse = skimage.measure.fit.EllipseModel()\n",
    "    ellipse.estimate(contour)\n",
    "    try:\n",
    "        xc, yc, a, b, theta = ellipse.params  \n",
    "    except Exception as int:\n",
    "        return [-1, -1, -1, -1, -1]\n",
    "    \n",
    "    return [xc, yc, a, b, theta]"
   ]
  },
  {
   "cell_type": "code",
   "execution_count": 6,
   "metadata": {},
   "outputs": [
    {
     "data": {
      "text/plain": [
       "<matplotlib.patches.Ellipse at 0x7efdcc356080>"
      ]
     },
     "execution_count": 6,
     "metadata": {},
     "output_type": "execute_result"
    },
    {
     "data": {
      "image/png": "[encoded data removed]",
      "text/plain": [
       "<Figure size 432x288 with 1 Axes>"
      ]
     },
     "metadata": {
      "needs_background": "light"
     },
     "output_type": "display_data"
    }
   ],
   "source": [
    "fig, ax = plt.subplots(1)\n",
    "img = df.iloc[0].BlobImages\n",
    "xc, yc, a, b, theta = getEllipseParams(img)\n",
    "ax.imshow(img)\n",
    "e = Ellipse(xy=[xc,yc], width=a*2, height=b*2, angle=math.degrees(theta), fill=False, lw=2, edgecolor='w')\n",
    "ax.add_artist(e)"
   ]
  },
  {
   "cell_type": "code",
   "execution_count": 7,
   "metadata": {},
   "outputs": [
    {
     "name": "stdout",
     "output_type": "stream",
     "text": [
      "CPU times: user 14min 5s, sys: 6min 2s, total: 20min 8s\n",
      "Wall time: 6min 43s\n"
     ]
    }
   ],
   "source": [
    "%%time\n",
    "lst = df.BlobImages.apply(lambda x: getEllipseParams(x))\n",
    "lst2 = np.vstack(lst.values)"
   ]
  },
  {
   "cell_type": "code",
   "execution_count": 8,
   "metadata": {},
   "outputs": [],
   "source": [
    "df[\"XC\"] = lst2[:,0]\n",
    "df[\"YC\"] = lst2[:,1]\n",
    "df[\"EllipseW\"] = lst2[:,2]\n",
    "df[\"EllipseH\"] = lst2[:,3]\n",
    "df[\"EllipseTheta\"] = lst2[:,4]\n",
    "df[\"Area\"] = df[\"EllipseW\"] * df[\"EllipseH\"] * np.pi\n",
    "df[\"AvgCapa\"] = df.BlobImages.apply(lambda x: np.mean(x))\n",
    "df[\"SumCapa\"] = df.BlobImages.apply(lambda x: np.sum(x))"
   ]
  },
  {
   "cell_type": "code",
   "execution_count": 9,
   "metadata": {},
   "outputs": [],
   "source": [
    "features = [\"SumCapa\", \"AvgCapa\", \"Area\", \"EllipseW\", \"EllipseH\", \"EllipseTheta\"]"
   ]
  },
  {
   "cell_type": "code",
   "execution_count": 10,
   "metadata": {},
   "outputs": [
    {
     "data": {
      "text/plain": [
       "0.2606082434774779"
      ]
     },
     "execution_count": 10,
     "metadata": {},
     "output_type": "execute_result"
    }
   ],
   "source": [
    "len(df[df.Set== \"Test\"]) / len(df[df.Set== \"Train\"])"
   ]
  },
  {
   "cell_type": "code",
   "execution_count": 11,
   "metadata": {},
   "outputs": [
    {
     "data": {
      "text/plain": [
       "16781"
      ]
     },
     "execution_count": 11,
     "metadata": {},
     "output_type": "execute_result"
    }
   ],
   "source": [
    "len(df[(df.Set== \"Test\") & (df.Version == \"Normal\") & (df.Noise == 0)])"
   ]
  },
  {
   "cell_type": "code",
   "execution_count": 12,
   "metadata": {},
   "outputs": [],
   "source": [
    "bins = 25\n",
    "df[\"Bin\"] = (df.Weight / bins).round().astype(int)\n",
    "u = sorted(df[\"Bin\"].unique())\n",
    "u= np.array(u)*bins"
   ]
  },
  {
   "cell_type": "code",
   "execution_count": 13,
   "metadata": {},
   "outputs": [],
   "source": [
    "dfX = df[(df.Version == \"Normal\") & (df.Noise == 0)]"
   ]
  },
  {
   "cell_type": "code",
   "execution_count": 14,
   "metadata": {},
   "outputs": [],
   "source": [
    "dfX = dfX.sort_values(\"Weight\")"
   ]
  },
  {
   "cell_type": "code",
   "execution_count": null,
   "metadata": {},
   "outputs": [
    {
     "data": {
      "text/plain": [
       "(0.22236917760202618, 0.0)"
      ]
     },
     "execution_count": 15,
     "metadata": {},
     "output_type": "execute_result"
    }
   ],
   "source": [
    "scipy.stats.pearsonr(dfX.Area.values, dfX.Weight.values)"
   ]
  },
  {
   "cell_type": "code",
   "execution_count": null,
   "metadata": {},
   "outputs": [
    {
     "data": {
      "text/plain": [
       "[<matplotlib.lines.Line2D at 0x7efd03992ba8>]"
      ]
     },
     "execution_count": 16,
     "metadata": {},
     "output_type": "execute_result"
    },
    {
     "data": {
      "image/png": "[encoded data removed]",
      "text/plain": [
       "<Figure size 432x432 with 1 Axes>"
      ]
     },
     "metadata": {
      "needs_background": "light"
     },
     "output_type": "display_data"
    }
   ],
   "source": [
    "fig, ax = plt.subplots(figsize=(6,6))\n",
    "mean = dfX.groupby([\"Bin\"]).BlobArea.mean()\n",
    "std = dfX.groupby([\"Bin\"]).BlobArea.std()\n",
    "lUpper = mean + std\n",
    "lLower = mean - std\n",
    "ax.fill_between(u, lUpper.values, lLower.values, color='gray', alpha=0.3)\n",
    "plt.plot(u, dfX.groupby([\"Bin\"]).BlobArea.mean(), label=\"Train\")"
   ]
  },
  {
   "cell_type": "code",
   "execution_count": null,
   "metadata": {},
   "outputs": [],
   "source": [
    "import sklearn\n",
    "from sklearn import neighbors\n",
    "from sklearn import svm\n",
    "from sklearn import tree\n",
    "from sklearn import ensemble\n",
    "from sklearn.model_selection import GridSearchCV\n",
    "from sklearn.metrics import mean_squared_error"
   ]
  },
  {
   "cell_type": "code",
   "execution_count": null,
   "metadata": {},
   "outputs": [],
   "source": [
    "dfY = df[df.Set == \"Train\"]\n",
    "dfT = dfX[dfX.Set == \"Test\"].copy(deep=True)"
   ]
  },
  {
   "cell_type": "code",
   "execution_count": 19,
   "metadata": {},
   "outputs": [
    {
     "name": "stdout",
     "output_type": "stream",
     "text": [
      "Fitting 5 folds for each of 9 candidates, totalling 45 fits\n"
     ]
    },
    {
     "name": "stderr",
     "output_type": "stream",
     "text": [
      "[Parallel(n_jobs=28)]: Using backend LokyBackend with 28 concurrent workers.\n",
      "[Parallel(n_jobs=28)]: Done  36 out of  45 | elapsed:   21.0s remaining:    5.2s\n",
      "[Parallel(n_jobs=28)]: Done  45 out of  45 | elapsed:   23.0s finished\n"
     ]
    },
    {
     "name": "stdout",
     "output_type": "stream",
     "text": [
      "{'n_neighbors': 6} -262694.8671374563\n",
      "$\\textit{RMSE} = 659.02g$\n",
      "$\\textit{MAE} = 534.56g$ ($\textit{SD}= 385.45g$)\n",
      "CPU times: user 1.89 s, sys: 2.46 s, total: 4.35 s\n",
      "Wall time: 24.8 s\n"
     ]
    }
   ],
   "source": [
    "%%time\n",
    "param_grid = {'n_neighbors': range(3,12,1)}\n",
    "clf = GridSearchCV(neighbors.KNeighborsRegressor(), \n",
    "                   param_grid,\n",
    "                   scoring=\"neg_mean_squared_error\",\n",
    "                   cv=5 , n_jobs=28, verbose=1)\n",
    "clf.fit(dfY[features].values, dfY.Weight.values)\n",
    "print(clf.best_params_, clf.best_score_)\n",
    "dfT[\"WeightPred\"] = clf.predict(dfT[features].values)\n",
    "dfT[\"Error\"] = dfT.Weight - dfT.WeightPred\n",
    "dfT[\"ErrorAbs\"] = dfT.Error.abs()\n",
    "rmse = np.sqrt(mean_squared_error(dfT.Weight, dfT.WeightPred))\n",
    "print(\"$\\\\textit{RMSE} = %.2fg$\" % rmse)\n",
    "print(\"$\\\\textit{MAE} = %.2fg$ ($\\\\textit{SD}= %.2fg$)\" % (dfT.ErrorAbs.mean(), dfT.ErrorAbs.std()))"
   ]
  },
  {
   "cell_type": "code",
   "execution_count": 28,
   "metadata": {},
   "outputs": [
    {
     "name": "stdout",
     "output_type": "stream",
     "text": [
      "Fitting 5 folds for each of 45 candidates, totalling 225 fits\n"
     ]
    },
    {
     "name": "stderr",
     "output_type": "stream",
     "text": [
      "[Parallel(n_jobs=30)]: Using backend LokyBackend with 30 concurrent workers.\n",
      "[Parallel(n_jobs=30)]: Done 140 tasks      | elapsed:  1.2min\n",
      "[Parallel(n_jobs=30)]: Done 225 out of 225 | elapsed:  1.8min finished\n"
     ]
    },
    {
     "name": "stdout",
     "output_type": "stream",
     "text": [
      "{'max_depth': 18, 'min_samples_split': 22} -252459.6333146262\n",
      "$\\textit{RMSE} = 611.58g$\n",
      "$\\textit{MAE} = 492.70g$ ($\\textit{SD}= 362.33g$)\n",
      "CPU times: user 9.43 s, sys: 2.86 s, total: 12.3 s\n",
      "Wall time: 1min 56s\n"
     ]
    }
   ],
   "source": [
    "%%time\n",
    "param_grid = {'max_depth': range(15,20,1),\n",
    "              'min_samples_split': range(14,23,1)}\n",
    "clf = GridSearchCV(tree.DecisionTreeRegressor(), \n",
    "                   param_grid,\n",
    "                   scoring=\"neg_mean_squared_error\",\n",
    "                   cv=5 , n_jobs=30, verbose=1)\n",
    "clf.fit(dfY[features].values, dfY.Weight.values)\n",
    "print(clf.best_params_, clf.best_score_)\n",
    "dfT[\"WeightPred\"] = clf.predict(dfT[features].values) \n",
    "dfT[\"Error\"] = dfT.Weight - dfT.WeightPred\n",
    "dfT[\"ErrorAbs\"] = dfT.Error.abs()\n",
    "rmse = np.sqrt(mean_squared_error(dfT.Weight, dfT.WeightPred))\n",
    "print(\"$\\\\textit{RMSE} = %.2fg$\" % rmse)\n",
    "print(\"$\\\\textit{MAE} = %.2fg$ ($\\\\textit{SD}= %.2fg$)\" % (dfT.ErrorAbs.mean(), dfT.ErrorAbs.std()))"
   ]
  },
  {
   "cell_type": "code",
   "execution_count": 29,
   "metadata": {},
   "outputs": [
    {
     "name": "stdout",
     "output_type": "stream",
     "text": [
      "Fitting 5 folds for each of 7 candidates, totalling 35 fits\n"
     ]
    },
    {
     "name": "stderr",
     "output_type": "stream",
     "text": [
      "[Parallel(n_jobs=30)]: Using backend LokyBackend with 30 concurrent workers.\n",
      "[Parallel(n_jobs=30)]: Done  12 out of  35 | elapsed:  1.1min remaining:  2.1min\n",
      "[Parallel(n_jobs=30)]: Done  35 out of  35 | elapsed:  2.5min finished\n"
     ]
    },
    {
     "name": "stdout",
     "output_type": "stream",
     "text": [
      "{'n_estimators': 14} -190707.93995566102\n",
      "$\\textit{RMSE} = 583.36g$\n",
      "$\\textit{MAE} = 470.51g$ ($\\textit{SD}= 344.88g$)\n",
      "CPU times: user 1min 46s, sys: 451 ms, total: 1min 46s\n",
      "Wall time: 4min 13s\n"
     ]
    }
   ],
   "source": [
    "%%time\n",
    "param_grid = {'n_estimators': range(2,16,2)}\n",
    "clf = GridSearchCV(ensemble.RandomForestRegressor(), \n",
    "                   param_grid,\n",
    "                   scoring=\"neg_mean_squared_error\",\n",
    "                   cv=5 , n_jobs=30, verbose=1)\n",
    "clf.fit(dfY[features].values, dfY.Weight.values)\n",
    "print(clf.best_params_, clf.best_score_)\n",
    "dfT[\"WeightPred\"] = clf.predict(dfT[features].values) \n",
    "dfT[\"Error\"] = dfT.Weight - dfT.WeightPred\n",
    "dfT[\"ErrorAbs\"] = dfT.Error.abs()\n",
    "rmse = np.sqrt(mean_squared_error(dfT.Weight, dfT.WeightPred))\n",
    "print(\"$\\\\textit{RMSE} = %.2fg$\" % rmse)\n",
    "print(\"$\\\\textit{MAE} = %.2fg$ ($\\\\textit{SD}= %.2fg$)\" % (dfT.ErrorAbs.mean(), dfT.ErrorAbs.std()))"
   ]
  },
  {
   "cell_type": "code",
   "execution_count": 25,
   "metadata": {},
   "outputs": [
    {
     "name": "stdout",
     "output_type": "stream",
     "text": [
      "Fitting 5 folds for each of 4 candidates, totalling 20 fits\n"
     ]
    },
    {
     "name": "stderr",
     "output_type": "stream",
     "text": [
      "[Parallel(n_jobs=30)]: Using backend LokyBackend with 30 concurrent workers.\n",
      "[Parallel(n_jobs=30)]: Done   3 out of  20 | elapsed: 1026.9min remaining: 5819.0min\n",
      "[Parallel(n_jobs=30)]: Done  20 out of  20 | elapsed: 3458.6min finished\n",
      "/usr/local/lib/python3.6/dist-packages/sklearn/svm/base.py:193: FutureWarning: The default value of gamma will change from 'auto' to 'scale' in version 0.22 to account better for unscaled features. Set gamma explicitly to 'auto' or 'scale' to avoid this warning.\n",
      "  \"avoid this warning.\", FutureWarning)\n"
     ]
    },
    {
     "name": "stdout",
     "output_type": "stream",
     "text": [
      "{'C': 1000, 'kernel': 'rbf'} -285495.8687111031\n",
      "$\\textit{RMSE} = 648.25g$\n",
      "$\\textit{MAE} = 525.54g$ ($\\textit{SD}= 379.53g$)\n",
      "CPU times: user 2d 9h 8min 38s, sys: 10min 46s, total: 2d 9h 19min 25s\n",
      "Wall time: 4d 18h 57min 42s\n"
     ]
    }
   ],
   "source": [
    "%%time\n",
    "param_grid = [{'kernel': ['rbf'],  'C': [1, 10, 100, 1000]}] #'gamma': [1e-3, 1e-4],\n",
    "                    #{'kernel': ['linear'], 'C': [1, 10, 100, 1000]}]\n",
    "\n",
    "clf = GridSearchCV(svm.SVR(), \n",
    "                   param_grid,\n",
    "                   scoring=\"neg_mean_squared_error\",\n",
    "                   cv=5 , n_jobs=30, verbose=1)\n",
    "clf.fit(dfY[features].values, dfY.Weight.values)\n",
    "print(clf.best_params_, clf.best_score_)\n",
    "dfT[\"WeightPred\"] = clf.predict(dfT[features].values)  \n",
    "dfT[\"Error\"] = dfT.Weight - dfT.WeightPred\n",
    "dfT[\"ErrorAbs\"] = dfT.Error.abs()\n",
    "rmse = np.sqrt(mean_squared_error(dfT.Weight, dfT.WeightPred))\n",
    "print(\"$\\\\textit{RMSE} = %.2fg$\" % rmse)\n",
    "print(\"$\\\\textit{MAE} = %.2fg$ ($\\\\textit{SD}= %.2fg$)\" % (dfT.ErrorAbs.mean(), dfT.ErrorAbs.std()))"
   ]
  },
  {
   "cell_type": "code",
   "execution_count": null,
   "metadata": {},
   "outputs": [
    {
     "name": "stdout",
     "output_type": "stream",
     "text": [
      "Fitting 5 folds for each of 3 candidates, totalling 15 fits\n"
     ]
    },
    {
     "name": "stderr",
     "output_type": "stream",
     "text": [
      "[Parallel(n_jobs=30)]: Using backend LokyBackend with 30 concurrent workers.\n"
     ]
    }
   ],
   "source": [
    "%%time\n",
    "param_grid = [{'kernel': ['rbf'],  'C': [10000, 100000, 1000000]}] #'gamma': [1e-3, 1e-4],\n",
    "                    #{'kernel': ['linear'], 'C': [1, 10, 100, 1000]}]\n",
    "\n",
    "clf = GridSearchCV(svm.SVR(), \n",
    "                   param_grid,\n",
    "                   scoring=\"neg_mean_squared_error\",\n",
    "                   cv=5 , n_jobs=30, verbose=1)\n",
    "clf.fit(dfY[features].values, dfY.Weight.values)\n",
    "print(clf.best_params_, clf.best_score_)\n",
    "dfT[\"WeightPred\"] = clf.predict(dfT[features].values)  \n",
    "dfT[\"Error\"] = dfT.Weight - dfT.WeightPred\n",
    "dfT[\"ErrorAbs\"] = dfT.Error.abs()\n",
    "rmse = np.sqrt(mean_squared_error(dfT.Weight, dfT.WeightPred))\n",
    "print(\"$\\\\textit{RMSE} = %.2fg$\" % rmse)\n",
    "print(\"$\\\\textit{MAE} = %.2fg$ ($\\\\textit{SD}= %.2fg$)\" % (dfT.ErrorAbs.mean(), dfT.ErrorAbs.std()))"
   ]
  },
  {
   "cell_type": "code",
   "execution_count": 20,
   "metadata": {},
   "outputs": [
    {
     "name": "stdout",
     "output_type": "stream",
     "text": [
      "$\\textit{RMSE} = 593.51g$\n",
      "$\\textit{MAE} = 512.86g$ ($\\textit{SD}= 298.72g$)\n",
      "CPU times: user 3.26 s, sys: 381 ms, total: 3.64 s\n",
      "Wall time: 3.03 s\n"
     ]
    }
   ],
   "source": [
    "%%time\n",
    "neigh = sklearn.svm.LinearSVR()\n",
    "neigh.fit(dfY.BlobArea.values.reshape(-1,1), dfY.Weight.values) \n",
    "dfT[\"WeightPred\"] = neigh.predict(dfT.BlobArea.values.reshape(-1,1)) \n",
    "dfT[\"Error\"] = dfT.Weight - dfT.WeightPred\n",
    "dfT[\"ErrorAbs\"] = dfT.Error.abs()\n",
    "rmse = np.sqrt(mean_squared_error(dfT.Weight, dfT.WeightPred))\n",
    "print(\"$\\\\textit{RMSE} = %.2fg$\" % rmse)\n",
    "print(\"$\\\\textit{MAE} = %.2fg$ ($\\\\textit{SD}= %.2fg$)\" % (dfT.ErrorAbs.mean(), dfT.ErrorAbs.std()))\n"
   ]
  },
  {
   "cell_type": "code",
   "execution_count": null,
   "metadata": {},
   "outputs": [],
   "source": []
  }
 ],
 "metadata": {
  "kernelspec": {
   "display_name": "Python 3",
   "language": "python",
   "name": "python3"
  },
  "language_info": {
   "codemirror_mode": {
    "name": "ipython",
    "version": 3
   },
   "file_extension": ".py",
   "mimetype": "text/x-python",
   "name": "python",
   "nbconvert_exporter": "python",
   "pygments_lexer": "ipython3",
   "version": "3.6.7"
  }
 },
 "nbformat": 4,
 "nbformat_minor": 2
}
